{
  "nbformat": 4,
  "nbformat_minor": 0,
  "metadata": {
    "colab": {
      "provenance": [],
      "authorship_tag": "ABX9TyNTfh5WkAD/ffNFV3q+ZGB9",
      "include_colab_link": true
    },
    "kernelspec": {
      "name": "python3",
      "display_name": "Python 3"
    },
    "language_info": {
      "name": "python"
    }
  },
  "cells": [
    {
      "cell_type": "markdown",
      "metadata": {
        "id": "view-in-github",
        "colab_type": "text"
      },
      "source": [
        "<a href=\"https://colab.research.google.com/github/KunalAyush1/PyTorch_learning/blob/main/PyTorch1_3.ipynb\" target=\"_parent\"><img src=\"https://colab.research.google.com/assets/colab-badge.svg\" alt=\"Open In Colab\"/></a>"
      ]
    },
    {
      "cell_type": "code",
      "execution_count": 1,
      "metadata": {
        "id": "OMSsX-Sfvtz_"
      },
      "outputs": [],
      "source": [
        "import torch"
      ]
    },
    {
      "cell_type": "code",
      "source": [
        "#Finding the min , max , Mean , sum, etc(Tensor Aggregation)\n",
        "x = torch.arange(0,200,20)\n",
        "x.dtype"
      ],
      "metadata": {
        "colab": {
          "base_uri": "https://localhost:8080/"
        },
        "id": "qTyu1bCRv3u9",
        "outputId": "85d9ee34-f921-4ae4-eb51-0fce4011727b"
      },
      "execution_count": 11,
      "outputs": [
        {
          "output_type": "execute_result",
          "data": {
            "text/plain": [
              "torch.int64"
            ]
          },
          "metadata": {},
          "execution_count": 11
        }
      ]
    },
    {
      "cell_type": "code",
      "source": [
        "print(torch.min(x))\n",
        "# or\n",
        "print(x.min())"
      ],
      "metadata": {
        "colab": {
          "base_uri": "https://localhost:8080/"
        },
        "id": "hYbCQXcKv_jh",
        "outputId": "d23838d3-ecc9-4a56-e991-1d10fdd6a202"
      },
      "execution_count": 7,
      "outputs": [
        {
          "output_type": "stream",
          "name": "stdout",
          "text": [
            "tensor(0)\n",
            "tensor(0)\n"
          ]
        }
      ]
    },
    {
      "cell_type": "code",
      "source": [
        "print(torch.max(x))\n",
        "# or\n",
        "print(x.max())"
      ],
      "metadata": {
        "colab": {
          "base_uri": "https://localhost:8080/"
        },
        "id": "nAPXTwIJwT6A",
        "outputId": "4195cdc8-7893-479e-f13d-349a2572da19"
      },
      "execution_count": 8,
      "outputs": [
        {
          "output_type": "stream",
          "name": "stdout",
          "text": [
            "tensor(180)\n",
            "tensor(180)\n"
          ]
        }
      ]
    },
    {
      "cell_type": "code",
      "source": [
        "'''Note => torch.mean() function requires a tensor of float32 data type to work'''\n",
        "torch.mean(x.type(torch.float32))"
      ],
      "metadata": {
        "colab": {
          "base_uri": "https://localhost:8080/"
        },
        "id": "MLOe9Lq6w5QZ",
        "outputId": "56799842-a00e-4375-f0a2-e5889a299b7d"
      },
      "execution_count": 12,
      "outputs": [
        {
          "output_type": "execute_result",
          "data": {
            "text/plain": [
              "tensor(90.)"
            ]
          },
          "metadata": {},
          "execution_count": 12
        }
      ]
    },
    {
      "cell_type": "code",
      "source": [
        "# Finding the positional min and max\n",
        "# which means the position at which minimum or maximum value is there\n",
        "\n",
        "x.argmin()"
      ],
      "metadata": {
        "colab": {
          "base_uri": "https://localhost:8080/"
        },
        "id": "pUde85vdxEj1",
        "outputId": "df481e4a-c1a7-454d-80cd-bac13f98e7ba"
      },
      "execution_count": 13,
      "outputs": [
        {
          "output_type": "execute_result",
          "data": {
            "text/plain": [
              "tensor(0)"
            ]
          },
          "metadata": {},
          "execution_count": 13
        }
      ]
    },
    {
      "cell_type": "code",
      "source": [
        "x.argmax()\n",
        "# the argmin and argmax returns the index of min and max element in tensor respectively"
      ],
      "metadata": {
        "colab": {
          "base_uri": "https://localhost:8080/"
        },
        "id": "Ze9DkuJ3xrSS",
        "outputId": "53a0709c-8217-4119-ab55-a480529f31d5"
      },
      "execution_count": 14,
      "outputs": [
        {
          "output_type": "execute_result",
          "data": {
            "text/plain": [
              "tensor(9)"
            ]
          },
          "metadata": {},
          "execution_count": 14
        }
      ]
    },
    {
      "cell_type": "code",
      "source": [
        "\n",
        "# Reshaping , stacking , squeezing and unsqueezing tensors\n",
        "\n",
        "'''\n",
        "Reshaping means changing the shape of the tensor but remember the shape must be compatible\n",
        "'''\n",
        "print(x.shape)\n",
        "x_reshaped = x.reshape(10,1)\n",
        "# shape of newly reshaped tensor = shape of original tensor\n",
        "x_reshaped"
      ],
      "metadata": {
        "colab": {
          "base_uri": "https://localhost:8080/"
        },
        "id": "DF0SoNLCxs-f",
        "outputId": "47fa4d11-2ef1-45cc-d12c-2b0700ddc835"
      },
      "execution_count": 48,
      "outputs": [
        {
          "output_type": "stream",
          "name": "stdout",
          "text": [
            "torch.Size([10])\n"
          ]
        },
        {
          "output_type": "execute_result",
          "data": {
            "text/plain": [
              "tensor([[  0],\n",
              "        [ 20],\n",
              "        [ 40],\n",
              "        [ 60],\n",
              "        [ 80],\n",
              "        [100],\n",
              "        [120],\n",
              "        [140],\n",
              "        [160],\n",
              "        [180]])"
            ]
          },
          "metadata": {},
          "execution_count": 48
        }
      ]
    },
    {
      "cell_type": "code",
      "source": [
        "''' view does the same job as reshape , it also reshapes a tensor\n",
        "Note => .view() requires the tensor to be contiguous in memory.\n",
        "'''\n",
        "\n",
        "x.view(5,2)"
      ],
      "metadata": {
        "colab": {
          "base_uri": "https://localhost:8080/"
        },
        "id": "vraEVvXJzpwW",
        "outputId": "81d21972-f5ac-48be-c0d3-4884006a0a30"
      },
      "execution_count": 20,
      "outputs": [
        {
          "output_type": "execute_result",
          "data": {
            "text/plain": [
              "tensor([[  0,  20],\n",
              "        [ 40,  60],\n",
              "        [ 80, 100],\n",
              "        [120, 140],\n",
              "        [160, 180]])"
            ]
          },
          "metadata": {},
          "execution_count": 20
        }
      ]
    },
    {
      "cell_type": "code",
      "source": [
        "# Stacking is done with the help of torch.stack(-----, dim = ----)\n",
        "\n",
        "x_stacked = torch.stack([x,x,x],dim = 1)\n",
        "\n",
        "x_stacked"
      ],
      "metadata": {
        "colab": {
          "base_uri": "https://localhost:8080/"
        },
        "id": "FFA2f2q01hfN",
        "outputId": "a03db2ab-2da1-4108-8e7c-c341faa34d2f"
      },
      "execution_count": 27,
      "outputs": [
        {
          "output_type": "execute_result",
          "data": {
            "text/plain": [
              "tensor([[  0,   0,   0],\n",
              "        [ 20,  20,  20],\n",
              "        [ 40,  40,  40],\n",
              "        [ 60,  60,  60],\n",
              "        [ 80,  80,  80],\n",
              "        [100, 100, 100],\n",
              "        [120, 120, 120],\n",
              "        [140, 140, 140],\n",
              "        [160, 160, 160],\n",
              "        [180, 180, 180]])"
            ]
          },
          "metadata": {},
          "execution_count": 27
        }
      ]
    },
    {
      "cell_type": "code",
      "source": [
        "# Squeezing\n",
        "''' torch.squeeze() - removes all single dimensions from a target tensor(ie.It removes all dimensions of size 1 from a tensor’s shape.)\n",
        "'''\n",
        "\n",
        "y = torch.randn(1,5,2,1)\n",
        "y_squeezed = torch.squeeze(y)\n",
        "y_squeezed.shape"
      ],
      "metadata": {
        "colab": {
          "base_uri": "https://localhost:8080/"
        },
        "id": "gXbdJiMj1vql",
        "outputId": "46f788eb-043d-4797-f825-66d9f9b40ede"
      },
      "execution_count": 34,
      "outputs": [
        {
          "output_type": "execute_result",
          "data": {
            "text/plain": [
              "torch.Size([5, 2])"
            ]
          },
          "metadata": {},
          "execution_count": 34
        }
      ]
    },
    {
      "cell_type": "code",
      "source": [
        "# Unsqueezing\n",
        "'''torch.unsqueeze(tensor, dim) adds a dimension of size 1 at the specified dim (axis).\n",
        "\n",
        "It doesn’t change the data — it just reshapes the tensor by adding a new dimension.\n",
        "'''\n",
        "y_unsqueezed = torch.unsqueeze(y_squeezed,dim = 0)\n",
        "\n",
        "y_unsqueezed.shape"
      ],
      "metadata": {
        "colab": {
          "base_uri": "https://localhost:8080/"
        },
        "id": "YelNLRaH4mud",
        "outputId": "fdf1a229-18fb-4fc3-9cb0-15c138f824b7"
      },
      "execution_count": 41,
      "outputs": [
        {
          "output_type": "execute_result",
          "data": {
            "text/plain": [
              "torch.Size([1, 5, 2])"
            ]
          },
          "metadata": {},
          "execution_count": 41
        }
      ]
    },
    {
      "cell_type": "code",
      "source": [
        "#PERMUTING\n",
        "'''\n",
        "    torch.permute(*dims) reorders the dimensions of a tensor according to the specified order.\n",
        "\n",
        "It's like rotating axes or rearranging the way data is viewed — without changing the data itself, only how it's accessed.'''\n",
        "\n",
        "image = torch.randn(224,224,3)\n",
        "image_permuted = image.permute(2,0,1) #dimension at second index will be now at zero index,simliarly.......\n",
        "image_permuted.shape\n",
        "# so it basically shuffles up the dimension as per our need and where do we want to put\n"
      ],
      "metadata": {
        "colab": {
          "base_uri": "https://localhost:8080/"
        },
        "id": "EDsxTyZe5gTb",
        "outputId": "70dcf9b9-4df0-4f82-9ffd-a7889e3076c7"
      },
      "execution_count": 47,
      "outputs": [
        {
          "output_type": "execute_result",
          "data": {
            "text/plain": [
              "torch.Size([3, 224, 224])"
            ]
          },
          "metadata": {},
          "execution_count": 47
        }
      ]
    },
    {
      "cell_type": "code",
      "source": [
        "# Indexing ( selecting data from tensors)\n",
        "\n",
        "z = torch.arange(1,10).reshape(1,3,3)\n",
        "z,z.shape"
      ],
      "metadata": {
        "colab": {
          "base_uri": "https://localhost:8080/"
        },
        "id": "lEYEQyjP6Rmi",
        "outputId": "da6fd18a-6b2d-4f87-b95f-64e05db39aa5"
      },
      "execution_count": 51,
      "outputs": [
        {
          "output_type": "execute_result",
          "data": {
            "text/plain": [
              "(tensor([[[1, 2, 3],\n",
              "          [4, 5, 6],\n",
              "          [7, 8, 9]]]),\n",
              " torch.Size([1, 3, 3]))"
            ]
          },
          "metadata": {},
          "execution_count": 51
        }
      ]
    },
    {
      "cell_type": "code",
      "source": [
        "z[0]"
      ],
      "metadata": {
        "colab": {
          "base_uri": "https://localhost:8080/"
        },
        "id": "IzEduKHU7qXX",
        "outputId": "896a414a-b736-4ab7-8ea8-8fd5c7b5b3c7"
      },
      "execution_count": 54,
      "outputs": [
        {
          "output_type": "execute_result",
          "data": {
            "text/plain": [
              "tensor([[1, 2, 3],\n",
              "        [4, 5, 6],\n",
              "        [7, 8, 9]])"
            ]
          },
          "metadata": {},
          "execution_count": 54
        }
      ]
    },
    {
      "cell_type": "code",
      "source": [
        "z[0][0]"
      ],
      "metadata": {
        "colab": {
          "base_uri": "https://localhost:8080/"
        },
        "id": "_kry8gbk7wt_",
        "outputId": "6537b59b-8571-4ddf-9c4e-f2a8be3de399"
      },
      "execution_count": 56,
      "outputs": [
        {
          "output_type": "execute_result",
          "data": {
            "text/plain": [
              "tensor([1, 2, 3])"
            ]
          },
          "metadata": {},
          "execution_count": 56
        }
      ]
    },
    {
      "cell_type": "code",
      "source": [
        "z[0][0][0]"
      ],
      "metadata": {
        "colab": {
          "base_uri": "https://localhost:8080/"
        },
        "id": "HH_VpGhH77SL",
        "outputId": "8cbfbd76-33eb-4722-f236-21e8d0461fa1"
      },
      "execution_count": 57,
      "outputs": [
        {
          "output_type": "execute_result",
          "data": {
            "text/plain": [
              "tensor(1)"
            ]
          },
          "metadata": {},
          "execution_count": 57
        }
      ]
    },
    {
      "cell_type": "code",
      "source": [
        "# index on z to return 9\n",
        "\n",
        "z[0,2,2],  z[0][2][2]"
      ],
      "metadata": {
        "colab": {
          "base_uri": "https://localhost:8080/"
        },
        "id": "cxM1XGb18Clu",
        "outputId": "b7fcfe34-919e-45c5-e6e1-e035f0419c41"
      },
      "execution_count": 64,
      "outputs": [
        {
          "output_type": "execute_result",
          "data": {
            "text/plain": [
              "(tensor(9), tensor(9))"
            ]
          },
          "metadata": {},
          "execution_count": 64
        }
      ]
    },
    {
      "cell_type": "code",
      "source": [
        "# we use \":\" to select all from a target dimension\n",
        "\n",
        "z[0,2,2]"
      ],
      "metadata": {
        "colab": {
          "base_uri": "https://localhost:8080/"
        },
        "id": "GDIxy0bu8OU1",
        "outputId": "b0e1162c-a45f-4a48-b0c5-2939dd8a2d4f"
      },
      "execution_count": 62,
      "outputs": [
        {
          "output_type": "execute_result",
          "data": {
            "text/plain": [
              "tensor(9)"
            ]
          },
          "metadata": {},
          "execution_count": 62
        }
      ]
    },
    {
      "cell_type": "code",
      "source": [
        "# q. get all value of 0th and 1st dimenison but only index 1 of 2nd dimension\n",
        "\n",
        "z[:,:,1]"
      ],
      "metadata": {
        "colab": {
          "base_uri": "https://localhost:8080/"
        },
        "id": "JmIyXPMr8lsk",
        "outputId": "71290a67-6ac7-4214-9cea-5251d5d98089"
      },
      "execution_count": 65,
      "outputs": [
        {
          "output_type": "execute_result",
          "data": {
            "text/plain": [
              "tensor([[2, 5, 8]])"
            ]
          },
          "metadata": {},
          "execution_count": 65
        }
      ]
    },
    {
      "cell_type": "code",
      "source": [
        "# q. Get all values of the 0 dimension but only 1 index value of 1st and 2nd dimenison\n",
        "z[:,1,1]"
      ],
      "metadata": {
        "colab": {
          "base_uri": "https://localhost:8080/"
        },
        "id": "XMNtHEVS9U-i",
        "outputId": "b60d5d4a-2756-4ec0-848a-bad0f323546c"
      },
      "execution_count": 66,
      "outputs": [
        {
          "output_type": "execute_result",
          "data": {
            "text/plain": [
              "tensor([5])"
            ]
          },
          "metadata": {},
          "execution_count": 66
        }
      ]
    },
    {
      "cell_type": "code",
      "source": [
        "\n"
      ],
      "metadata": {
        "id": "0ZEbpW0w94XD"
      },
      "execution_count": null,
      "outputs": []
    }
  ]
}