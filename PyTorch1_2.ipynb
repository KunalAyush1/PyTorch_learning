{
  "nbformat": 4,
  "nbformat_minor": 0,
  "metadata": {
    "colab": {
      "provenance": [],
      "gpuType": "T4",
      "authorship_tag": "ABX9TyNRxPIr66D7h+phwXqP9t7q",
      "include_colab_link": true
    },
    "kernelspec": {
      "name": "python3",
      "display_name": "Python 3"
    },
    "language_info": {
      "name": "python"
    },
    "accelerator": "GPU"
  },
  "cells": [
    {
      "cell_type": "markdown",
      "metadata": {
        "id": "view-in-github",
        "colab_type": "text"
      },
      "source": [
        "<a href=\"https://colab.research.google.com/github/KunalAyush1/PyTorch_learning/blob/main/PyTorch1_2.ipynb\" target=\"_parent\"><img src=\"https://colab.research.google.com/assets/colab-badge.svg\" alt=\"Open In Colab\"/></a>"
      ]
    },
    {
      "cell_type": "code",
      "execution_count": 2,
      "metadata": {
        "id": "kXvpPrHEFlht"
      },
      "outputs": [],
      "source": [
        "import torch"
      ]
    },
    {
      "cell_type": "code",
      "source": [
        "!nvidia-smi"
      ],
      "metadata": {
        "colab": {
          "base_uri": "https://localhost:8080/"
        },
        "id": "bVJNozPZHB0c",
        "outputId": "add1ace3-e461-4b61-cf46-e9a0e298f981"
      },
      "execution_count": 3,
      "outputs": [
        {
          "output_type": "stream",
          "name": "stdout",
          "text": [
            "Thu Jun 19 09:11:22 2025       \n",
            "+-----------------------------------------------------------------------------------------+\n",
            "| NVIDIA-SMI 550.54.15              Driver Version: 550.54.15      CUDA Version: 12.4     |\n",
            "|-----------------------------------------+------------------------+----------------------+\n",
            "| GPU  Name                 Persistence-M | Bus-Id          Disp.A | Volatile Uncorr. ECC |\n",
            "| Fan  Temp   Perf          Pwr:Usage/Cap |           Memory-Usage | GPU-Util  Compute M. |\n",
            "|                                         |                        |               MIG M. |\n",
            "|=========================================+========================+======================|\n",
            "|   0  Tesla T4                       Off |   00000000:00:04.0 Off |                    0 |\n",
            "| N/A   44C    P8              9W /   70W |       0MiB /  15360MiB |      0%      Default |\n",
            "|                                         |                        |                  N/A |\n",
            "+-----------------------------------------+------------------------+----------------------+\n",
            "                                                                                         \n",
            "+-----------------------------------------------------------------------------------------+\n",
            "| Processes:                                                                              |\n",
            "|  GPU   GI   CI        PID   Type   Process name                              GPU Memory |\n",
            "|        ID   ID                                                               Usage      |\n",
            "|=========================================================================================|\n",
            "|  No running processes found                                                             |\n",
            "+-----------------------------------------------------------------------------------------+\n"
          ]
        }
      ]
    },
    {
      "cell_type": "code",
      "source": [
        "print(torch.cuda.is_available())"
      ],
      "metadata": {
        "colab": {
          "base_uri": "https://localhost:8080/"
        },
        "id": "Iukl5A7yHEZ7",
        "outputId": "b070884a-7370-4655-ba1d-0db67d573c40"
      },
      "execution_count": 4,
      "outputs": [
        {
          "output_type": "stream",
          "name": "stdout",
          "text": [
            "True\n"
          ]
        }
      ]
    },
    {
      "cell_type": "code",
      "source": [
        "# Random Tensors\n",
        "''' We can create tensors with random numbers..it is useful because the way many neural networks learn is that they start with tensors full of random numbers\n",
        "and then adjust those random number to better suit the data'''\n",
        "\n",
        "'''Start with random numbers -> Look at data -> update random numbers -> look at data -> update random numbers and so on'''\n",
        "\n",
        "#creating\n",
        "\n",
        "random_tnsor = torch.rand(2,4)\n",
        "random_tnsor"
      ],
      "metadata": {
        "colab": {
          "base_uri": "https://localhost:8080/"
        },
        "id": "WiH0FMJFHHXc",
        "outputId": "3bc33d8f-77cc-4d21-ef7e-d842fd214850"
      },
      "execution_count": 5,
      "outputs": [
        {
          "output_type": "execute_result",
          "data": {
            "text/plain": [
              "tensor([[0.4862, 0.8133, 0.2945, 0.9282],\n",
              "        [0.1189, 0.4494, 0.8003, 0.3281]])"
            ]
          },
          "metadata": {},
          "execution_count": 5
        }
      ]
    },
    {
      "cell_type": "code",
      "source": [
        "random_tnsor.ndim"
      ],
      "metadata": {
        "colab": {
          "base_uri": "https://localhost:8080/"
        },
        "id": "IBXQmgbDH-2e",
        "outputId": "817a9f74-5c6e-4b9d-b1b1-c491eb630bf7"
      },
      "execution_count": 6,
      "outputs": [
        {
          "output_type": "execute_result",
          "data": {
            "text/plain": [
              "2"
            ]
          },
          "metadata": {},
          "execution_count": 6
        }
      ]
    },
    {
      "cell_type": "code",
      "source": [
        "# creating a random tensor which is basically similar to image tensors\n",
        "# image tensors have 3 dimesnsions colour channels(R,G,B),height and width\n",
        "# So basically we can convert any image into numerical data using image tensors\n",
        "\n",
        "random_image_tensor = torch.rand(size=(3,224,224))\n",
        "random_image_tensor.shape, random_image_tensor.ndim\n"
      ],
      "metadata": {
        "colab": {
          "base_uri": "https://localhost:8080/"
        },
        "id": "idQ4ZPmEH5kR",
        "outputId": "c4629c9c-29ef-4477-ea69-c9e3fac686a0"
      },
      "execution_count": 7,
      "outputs": [
        {
          "output_type": "execute_result",
          "data": {
            "text/plain": [
              "(torch.Size([3, 224, 224]), 3)"
            ]
          },
          "metadata": {},
          "execution_count": 7
        }
      ]
    },
    {
      "cell_type": "code",
      "source": [
        "# creating a tensor consisting of 0 and 1\n",
        "\n",
        "zero = torch.zeros(3,4)\n",
        "ones = torch.ones(2,3)\n"
      ],
      "metadata": {
        "id": "gISt5_a2I7ER"
      },
      "execution_count": 8,
      "outputs": []
    },
    {
      "cell_type": "code",
      "source": [
        "#creating a tensors in a range\n",
        "\n",
        "range_tensor = torch.arange(start=1,end = 1000, step = 18)\n",
        "range_tensor\n"
      ],
      "metadata": {
        "colab": {
          "base_uri": "https://localhost:8080/"
        },
        "id": "bGt2yEBgJvRt",
        "outputId": "d76ae654-949a-401c-f6d7-9c241c3667b5"
      },
      "execution_count": 9,
      "outputs": [
        {
          "output_type": "execute_result",
          "data": {
            "text/plain": [
              "tensor([  1,  19,  37,  55,  73,  91, 109, 127, 145, 163, 181, 199, 217, 235,\n",
              "        253, 271, 289, 307, 325, 343, 361, 379, 397, 415, 433, 451, 469, 487,\n",
              "        505, 523, 541, 559, 577, 595, 613, 631, 649, 667, 685, 703, 721, 739,\n",
              "        757, 775, 793, 811, 829, 847, 865, 883, 901, 919, 937, 955, 973, 991])"
            ]
          },
          "metadata": {},
          "execution_count": 9
        }
      ]
    },
    {
      "cell_type": "code",
      "source": [
        "#*_like() functions in PyTorch create a new tensor with the same shape and data type as another tensor,\n",
        "# but filled with a specific value or generated differently.\n",
        "\n",
        "\n",
        "ones_like = torch.ones_like(input = range_tensor)\n",
        "ones_like\n"
      ],
      "metadata": {
        "colab": {
          "base_uri": "https://localhost:8080/"
        },
        "id": "QBbh1rBJKEat",
        "outputId": "1a66b4d1-9e8e-4450-d041-aae36be374a0"
      },
      "execution_count": 10,
      "outputs": [
        {
          "output_type": "execute_result",
          "data": {
            "text/plain": [
              "tensor([1, 1, 1, 1, 1, 1, 1, 1, 1, 1, 1, 1, 1, 1, 1, 1, 1, 1, 1, 1, 1, 1, 1, 1,\n",
              "        1, 1, 1, 1, 1, 1, 1, 1, 1, 1, 1, 1, 1, 1, 1, 1, 1, 1, 1, 1, 1, 1, 1, 1,\n",
              "        1, 1, 1, 1, 1, 1, 1, 1])"
            ]
          },
          "metadata": {},
          "execution_count": 10
        }
      ]
    },
    {
      "cell_type": "code",
      "source": [
        "#Tensor data types\n",
        "\n",
        "''' This is one of the main issues in Pytorch or Deep Learning , we will be getting errors:\n",
        "1) Tensors being not right data type\n",
        "2) Tensors being not in right shape\n",
        "3) Tensors being not on the right device(ie. if one tensor is on CPU and another one is on GPU(cuda) , and if we perform calculations on them , Pytorch will\n",
        "throw an error)'''\n",
        "#dtype means the data type we want to use, device means for which device we are creating tensores(cpu or gpu(cuda)), requires grad means if we want pytorch to\n",
        "#keep track of gradients of the tensor\n",
        "float_32_tensor = torch.tensor([3.0,6.0,7.8],dtype = None, device =None,requires_grad=False)\n",
        "\n",
        "float_32_tensor.dtype\n",
        "# by defaul data type of tensor is float32\n",
        "# for more info visit pytorch docs"
      ],
      "metadata": {
        "id": "QLDOXx1GLEHU",
        "colab": {
          "base_uri": "https://localhost:8080/"
        },
        "outputId": "da3b05a6-dcc9-4857-8a7f-e7ab33a1c881"
      },
      "execution_count": 12,
      "outputs": [
        {
          "output_type": "execute_result",
          "data": {
            "text/plain": [
              "torch.float32"
            ]
          },
          "metadata": {},
          "execution_count": 12
        }
      ]
    },
    {
      "cell_type": "code",
      "source": [
        "float_16_tensor = float_32_tensor.type(torch.float16)\n"
      ],
      "metadata": {
        "id": "iOsL5wfUdLfQ"
      },
      "execution_count": 13,
      "outputs": []
    },
    {
      "cell_type": "code",
      "source": [
        "float_32_tensor * float_16_tensor\n",
        "\n",
        "''' Remember some operations will run error when we try to perform on different data types and some will not'''"
      ],
      "metadata": {
        "colab": {
          "base_uri": "https://localhost:8080/",
          "height": 35
        },
        "id": "8A-8oxe7exfW",
        "outputId": "a4750af0-c0b2-4dfe-b362-3c582a40c526"
      },
      "execution_count": 15,
      "outputs": [
        {
          "output_type": "execute_result",
          "data": {
            "text/plain": [
              "' Remember some operations will run error when we try to perform on different data types and some will not'"
            ],
            "application/vnd.google.colaboratory.intrinsic+json": {
              "type": "string"
            }
          },
          "metadata": {},
          "execution_count": 15
        }
      ]
    },
    {
      "cell_type": "code",
      "source": [
        "# Getting information from a tensor\n",
        "'''\n",
        "1. data type of tensor => use tensor.dtype\n",
        "2. shape of a tensor => use tensor.shape\n",
        "3. dveice of tensor => use tensor.device\n",
        "\n",
        "'''\n",
        "tensor_1 = torch.rand(3,4)\n",
        "\n",
        "\n",
        "\n"
      ],
      "metadata": {
        "id": "LLAfremde2Px"
      },
      "execution_count": 22,
      "outputs": []
    },
    {
      "cell_type": "code",
      "source": [
        "print(f\"Datatype of tensor : {tensor_1.dtype}\")\n",
        "print(f\"Device of tensor : {tensor_1.device}\")\n",
        "print(f\"Shape of tensor : {tensor_1.shape}\")"
      ],
      "metadata": {
        "colab": {
          "base_uri": "https://localhost:8080/"
        },
        "id": "kWb4GKxOfz5H",
        "outputId": "f7cbb32c-e8b6-4433-f151-079b9443f802"
      },
      "execution_count": 23,
      "outputs": [
        {
          "output_type": "stream",
          "name": "stdout",
          "text": [
            "Datatype of tensor : torch.float32\n",
            "Device of tensor : cpu\n",
            "Shape of tensor : torch.Size([3, 4])\n"
          ]
        }
      ]
    },
    {
      "cell_type": "code",
      "source": [
        "# Manipulating Tensors(operations)\n",
        "\n",
        "''' Tensor operations include :\n",
        "1. Addition\n",
        "2. Subtraction\n",
        "3. Multiplication(element wise)\n",
        "4. Division\n",
        "5. Matrix multiplication'''\n",
        "\n",
        "tensor_2 = torch.tensor([1,2,3])\n",
        "tensor_3 = torch.tensor([1,2,3])\n",
        "\n",
        "print(f\"Addition of tensors : {tensor_2 + tensor_3}\")\n",
        "print(f\"Subtraction of tensors : {tensor_2 - tensor_3}\")\n",
        "print(f\"Multiplication(element-wise) of tensors : {tensor_2 * tensor_3}\")\n",
        "print(f\"Division of tensors : {(tensor_2 / tensor_3).type(torch.int16)}\")\n"
      ],
      "metadata": {
        "colab": {
          "base_uri": "https://localhost:8080/"
        },
        "id": "oF8uLCO-gYCa",
        "outputId": "38e6dc3f-e401-4597-9a71-1ae48dce3379"
      },
      "execution_count": 28,
      "outputs": [
        {
          "output_type": "stream",
          "name": "stdout",
          "text": [
            "Addition of tensors : tensor([2, 4, 6])\n",
            "Subtraction of tensors : tensor([0, 0, 0])\n",
            "Multiplication(element-wise) of tensors : tensor([1, 4, 9])\n",
            "Division of tensors : tensor([1, 1, 1], dtype=torch.int16)\n"
          ]
        }
      ]
    },
    {
      "cell_type": "code",
      "source": [
        "# Matrix Multiplication(dot product) we can use\n",
        "'''\n",
        "torch.matmul(tensor_1 , tensor_2)\n",
        "\n",
        "or\n",
        "tensor_1 @ tensor_@\n",
        "'''\n",
        "\n",
        "\n",
        "\n",
        "''' As tensor_2 and tensor_3 are simply vectors the matmul simply dot product them but as we go into higher dimensions;\n",
        "there is a rule for matrix multiplication which is :\n",
        "the inner dimension must match for matrix multiplication\n",
        "and the resulting matrix has the shape of the outer dimensions\n",
        "\n",
        "Example:\n",
        "(2,3) and (3,4) is the shape of two matrix\n",
        " so 3 == 3 so it can be multiplied and the shape of the resulting matrix is (2,4)\n",
        "'''\n",
        "\n",
        "torch.matmul(tensor_2 , tensor_3)"
      ],
      "metadata": {
        "colab": {
          "base_uri": "https://localhost:8080/"
        },
        "id": "WkWAkActhQFQ",
        "outputId": "8dffd37d-7461-426a-df76-cd705bb0a376"
      },
      "execution_count": 31,
      "outputs": [
        {
          "output_type": "execute_result",
          "data": {
            "text/plain": [
              "tensor(14)"
            ]
          },
          "metadata": {},
          "execution_count": 31
        }
      ]
    },
    {
      "cell_type": "code",
      "source": [
        "# Shape error in tensor multiplication in Deep Learning can be adjusted by taking transpose of one of the tensors\n",
        "tensor_10 = torch.tensor([[1,2],\n",
        "                         [3,4],\n",
        "                         [6,7]])\n",
        "tensor_11 = torch.tensor([[10,2],\n",
        "                         [3,41],\n",
        "                         [6,71]])\n",
        "print(f'Shape of tensor_10 is {tensor_10.shape} and shape of tensor_11 is {tensor_11.shape}')\n",
        "# so we need to take transpose of one of the tensors\n",
        "tensor_10 @ tensor_11.T\n"
      ],
      "metadata": {
        "colab": {
          "base_uri": "https://localhost:8080/"
        },
        "id": "yPjrv-HLkiXh",
        "outputId": "e995ee7f-e5d8-420a-ac8e-d4ce37663051"
      },
      "execution_count": 40,
      "outputs": [
        {
          "output_type": "stream",
          "name": "stdout",
          "text": [
            "Shape of tensor_10 is torch.Size([3, 2]) and shape of tensor_11 is torch.Size([3, 2])\n"
          ]
        },
        {
          "output_type": "execute_result",
          "data": {
            "text/plain": [
              "tensor([[ 14,  85, 148],\n",
              "        [ 38, 173, 302],\n",
              "        [ 74, 305, 533]])"
            ]
          },
          "metadata": {},
          "execution_count": 40
        }
      ]
    },
    {
      "cell_type": "code",
      "source": [],
      "metadata": {
        "id": "YgnoDaMqm6yu"
      },
      "execution_count": null,
      "outputs": []
    }
  ]
}